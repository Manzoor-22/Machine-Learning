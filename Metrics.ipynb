{
 "cells": [
  {
   "cell_type": "markdown",
   "id": "2a902157",
   "metadata": {},
   "source": [
    "Creating a dataset"
   ]
  },
  {
   "cell_type": "markdown",
   "id": "0d47b9a8",
   "metadata": {},
   "source": [
    "Features: (Using a Classification Problem)\n",
    "\n",
    "1. Study Hours\n",
    "2. Previous Test Score\n",
    "3. Pass/Fail"
   ]
  },
  {
   "cell_type": "code",
   "execution_count": 1,
   "id": "13a32162",
   "metadata": {},
   "outputs": [],
   "source": [
    "import numpy as np\n",
    "\n",
    "np.random.seed(42)\n",
    "Study_Hours = np.random.randint(1,8,100)\n",
    "Test_Score = np.random.randint(40,100,100)\n",
    "Result = np.where(Study_Hours + Test_Score > 100, 1, 0)"
   ]
  },
  {
   "cell_type": "markdown",
   "id": "6c96f243",
   "metadata": {},
   "source": [
    "Splitting data for training and testing"
   ]
  },
  {
   "cell_type": "code",
   "execution_count": 2,
   "id": "4861b9a2",
   "metadata": {},
   "outputs": [],
   "source": [
    "from sklearn.model_selection import train_test_split\n",
    "X_train, X_test, y_train, y_test = train_test_split(np.column_stack((Study_Hours, Test_Score)), Result, test_size = 0.2, random_state = 42)"
   ]
  },
  {
   "cell_type": "markdown",
   "id": "e59bd792",
   "metadata": {},
   "source": [
    "Trying out different models:"
   ]
  },
  {
   "cell_type": "markdown",
   "id": "34526a00",
   "metadata": {},
   "source": [
    "1. Logistic Regression"
   ]
  },
  {
   "cell_type": "code",
   "execution_count": 3,
   "id": "4a817259",
   "metadata": {},
   "outputs": [],
   "source": [
    "from sklearn.linear_model import LogisticRegression\n",
    "\n",
    "model1 = LogisticRegression()\n",
    "model1.fit(X_train, y_train)\n",
    "result1 = model1.predict(X_test)"
   ]
  },
  {
   "cell_type": "code",
   "execution_count": 4,
   "id": "a2e54c2b",
   "metadata": {},
   "outputs": [
    {
     "data": {
      "text/plain": [
       "array([0, 0, 0, 0, 0, 1, 0, 0, 0, 0, 0, 0, 0, 0, 0, 1, 0, 0, 0, 0])"
      ]
     },
     "execution_count": 4,
     "metadata": {},
     "output_type": "execute_result"
    }
   ],
   "source": [
    "result1"
   ]
  },
  {
   "cell_type": "markdown",
   "id": "8a998f4d",
   "metadata": {},
   "source": [
    "2. Decision Tree"
   ]
  },
  {
   "cell_type": "code",
   "execution_count": 5,
   "id": "e3d13470",
   "metadata": {},
   "outputs": [],
   "source": [
    "from sklearn.tree import DecisionTreeClassifier\n",
    "\n",
    "model2 = DecisionTreeClassifier()\n",
    "model2.fit(X_train, y_train)\n",
    "result2 = model2.predict(X_test)"
   ]
  },
  {
   "cell_type": "code",
   "execution_count": 6,
   "id": "e0d5fe32",
   "metadata": {},
   "outputs": [
    {
     "data": {
      "text/plain": [
       "array([0, 0, 0, 0, 0, 1, 0, 0, 0, 0, 0, 0, 0, 0, 0, 1, 0, 0, 0, 0])"
      ]
     },
     "execution_count": 6,
     "metadata": {},
     "output_type": "execute_result"
    }
   ],
   "source": [
    "result2"
   ]
  },
  {
   "cell_type": "markdown",
   "id": "d4575f13",
   "metadata": {},
   "source": [
    "3. Random Forest"
   ]
  },
  {
   "cell_type": "code",
   "execution_count": 7,
   "id": "223d712d",
   "metadata": {},
   "outputs": [],
   "source": [
    "from sklearn.ensemble import RandomForestClassifier\n",
    "\n",
    "model3 = RandomForestClassifier()\n",
    "model3.fit(X_train, y_train)\n",
    "result3 = model3.predict(X_test)"
   ]
  },
  {
   "cell_type": "code",
   "execution_count": 8,
   "id": "ae2752b7",
   "metadata": {},
   "outputs": [
    {
     "data": {
      "text/plain": [
       "array([0, 0, 0, 0, 0, 1, 0, 0, 0, 0, 0, 0, 0, 0, 0, 1, 0, 0, 0, 0])"
      ]
     },
     "execution_count": 8,
     "metadata": {},
     "output_type": "execute_result"
    }
   ],
   "source": [
    "result3"
   ]
  },
  {
   "cell_type": "markdown",
   "id": "46e70ca4",
   "metadata": {},
   "source": [
    "METRICS CALCULATIONS:"
   ]
  },
  {
   "cell_type": "code",
   "execution_count": 9,
   "id": "fa550392",
   "metadata": {},
   "outputs": [
    {
     "name": "stdout",
     "output_type": "stream",
     "text": [
      "Metrics Calculations\n"
     ]
    }
   ],
   "source": [
    "from sklearn.metrics import accuracy_score, precision_score, recall_score, f1_score\n",
    "\n",
    "print(\"Metrics Calculations\")"
   ]
  },
  {
   "cell_type": "code",
   "execution_count": 10,
   "id": "183fd38a",
   "metadata": {},
   "outputs": [
    {
     "name": "stdout",
     "output_type": "stream",
     "text": [
      "1. Logistic Regression\n",
      "Accuracy =  0.95\n",
      "Precision =  1.0\n",
      "Recall =  0.5\n",
      "F1-Score =  0.6666666666666666\n"
     ]
    }
   ],
   "source": [
    "print(\"1. Logistic Regression\")\n",
    "print(\"Accuracy = \", accuracy_score(result1, y_test))\n",
    "print(\"Precision = \", precision_score(result1, y_test))\n",
    "print(\"Recall = \", recall_score(result1, y_test))\n",
    "print(\"F1-Score = \", f1_score(result1, y_test))"
   ]
  },
  {
   "cell_type": "code",
   "execution_count": 11,
   "id": "214f23a6",
   "metadata": {},
   "outputs": [
    {
     "name": "stdout",
     "output_type": "stream",
     "text": [
      "2. Decision Tree\n",
      "Accuracy =  0.95\n",
      "Precision =  1.0\n",
      "Recall =  0.5\n",
      "F1-Score =  0.6666666666666666\n"
     ]
    }
   ],
   "source": [
    "print(\"2. Decision Tree\")\n",
    "print(\"Accuracy = \", accuracy_score(result2, y_test))\n",
    "print(\"Precision = \", precision_score(result2, y_test))\n",
    "print(\"Recall = \", recall_score(result2, y_test))\n",
    "print(\"F1-Score = \", f1_score(result2, y_test))"
   ]
  },
  {
   "cell_type": "code",
   "execution_count": 12,
   "id": "4de77b62",
   "metadata": {},
   "outputs": [
    {
     "name": "stdout",
     "output_type": "stream",
     "text": [
      "3. Random Forest\n",
      "Accuracy =  0.95\n",
      "Precision =  1.0\n",
      "Recall =  0.5\n",
      "F1-Score =  0.6666666666666666\n"
     ]
    }
   ],
   "source": [
    "print(\"3. Random Forest\")\n",
    "print(\"Accuracy = \", accuracy_score(result3, y_test))\n",
    "print(\"Precision = \", precision_score(result3, y_test))\n",
    "print(\"Recall = \", recall_score(result3, y_test))\n",
    "print(\"F1-Score = \", f1_score(result3, y_test))"
   ]
  },
  {
   "cell_type": "code",
   "execution_count": null,
   "id": "8744756c",
   "metadata": {},
   "outputs": [],
   "source": []
  }
 ],
 "metadata": {
  "kernelspec": {
   "display_name": "Python 3 (ipykernel)",
   "language": "python",
   "name": "python3"
  },
  "language_info": {
   "codemirror_mode": {
    "name": "ipython",
    "version": 3
   },
   "file_extension": ".py",
   "mimetype": "text/x-python",
   "name": "python",
   "nbconvert_exporter": "python",
   "pygments_lexer": "ipython3",
   "version": "3.10.9"
  }
 },
 "nbformat": 4,
 "nbformat_minor": 5
}
