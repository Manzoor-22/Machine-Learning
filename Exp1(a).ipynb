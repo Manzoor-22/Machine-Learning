{
 "cells": [
  {
   "cell_type": "markdown",
   "metadata": {},
   "source": [
    "1. Write a program to demonstrate the following"
   ]
  },
  {
   "cell_type": "markdown",
   "metadata": {},
   "source": [
    "a)\tOperation of data types in Python."
   ]
  },
  {
   "cell_type": "code",
   "execution_count": 1,
   "metadata": {},
   "outputs": [
    {
     "name": "stdout",
     "output_type": "stream",
     "text": [
      "Integer =  10\n",
      "Float =  2.33\n",
      "String =  Hello World\n",
      "Boolean =  True\n",
      "List =  [1, 3, 5, 7]\n",
      "Tuple =  (2, 4, 6, 8)\n",
      "Dictionary =  {1: 'One', 2: 'Two', 3: 'Three'}\n"
     ]
    }
   ],
   "source": [
    "int_var = 10\n",
    "float_var = 2.33\n",
    "string_var = 'Hello World'\n",
    "bool_var = True\n",
    "list_var = [1, 3, 5, 7]\n",
    "tuple_var = (2, 4, 6, 8)\n",
    "dict_var = {1 : 'One', 2 : 'Two', 3 : 'Three'}\n",
    "\n",
    "print('Integer = ', int_var)\n",
    "print('Float = ', float_var)\n",
    "print('String = ', string_var)\n",
    "print('Boolean = ', bool_var)\n",
    "print('List = ', list_var)\n",
    "print('Tuple = ', tuple_var)\n",
    "print('Dictionary = ', dict_var)"
   ]
  },
  {
   "cell_type": "markdown",
   "metadata": {},
   "source": [
    "b)\tDifferent Arithmetic Operations on numbers in Python"
   ]
  },
  {
   "cell_type": "code",
   "execution_count": 2,
   "metadata": {},
   "outputs": [
    {
     "name": "stdout",
     "output_type": "stream",
     "text": [
      "a =  10 ; b =  7\n",
      "Addition =  17\n",
      "Subtraction =  3\n",
      "Multiplication =  70\n",
      "Division =  1.4285714285714286\n",
      "Floor Division =  1\n",
      "Exponent =  10000000\n",
      "Modulus =  3\n"
     ]
    }
   ],
   "source": [
    "a = 10\n",
    "b = 7\n",
    "print('a = ', a, '; b = ', b)\n",
    "print('Addition = ', a + b)\n",
    "print('Subtraction = ', a - b)\n",
    "print('Multiplication = ', a * b)\n",
    "print('Division = ', a / b)\n",
    "print('Floor Division = ', a // b)\n",
    "print('Exponent = ', a ** b)\n",
    "print('Modulus = ', a % b)"
   ]
  }
 ],
 "metadata": {
  "kernelspec": {
   "display_name": "Python 3 (ipykernel)",
   "language": "python",
   "name": "python3"
  },
  "language_info": {
   "codemirror_mode": {
    "name": "ipython",
    "version": 3
   },
   "file_extension": ".py",
   "mimetype": "text/x-python",
   "name": "python",
   "nbconvert_exporter": "python",
   "pygments_lexer": "ipython3",
   "version": "3.10.9"
  }
 },
 "nbformat": 4,
 "nbformat_minor": 2
}
