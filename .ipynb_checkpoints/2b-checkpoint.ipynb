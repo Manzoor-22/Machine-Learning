{
 "cells": [
  {
   "cell_type": "markdown",
   "id": "67c46040",
   "metadata": {},
   "source": [
    "2.\tBuild a linear regression model using python for any particular data set."
   ]
  },
  {
   "cell_type": "code",
   "execution_count": 1,
   "id": "d4860bd1",
   "metadata": {},
   "outputs": [],
   "source": [
    "import numpy as np\n",
    "import pandas as pd"
   ]
  },
  {
   "cell_type": "markdown",
   "id": "fc568819",
   "metadata": {},
   "source": [
    "Importing iris dataset"
   ]
  },
  {
   "cell_type": "code",
   "execution_count": 2,
   "id": "958c66dd",
   "metadata": {},
   "outputs": [],
   "source": [
    "from sklearn.datasets import load_diabetes\n",
    "diabetes = load_diabetes()\n",
    "X = diabetes.data\n",
    "y = diabetes.target"
   ]
  },
  {
   "cell_type": "markdown",
   "id": "e903e435",
   "metadata": {},
   "source": [
    "Splitting the dataset into training and testing"
   ]
  },
  {
   "cell_type": "code",
   "execution_count": 3,
   "id": "5835bd76",
   "metadata": {},
   "outputs": [],
   "source": [
    "from sklearn.model_selection import train_test_split\n",
    "X_train, X_test, y_train, y_test = train_test_split(X, y, test_size = 0.2, random_state=42)"
   ]
  },
  {
   "cell_type": "markdown",
   "id": "18634141",
   "metadata": {},
   "source": [
    "Standardizing the dataset"
   ]
  },
  {
   "cell_type": "code",
   "execution_count": 4,
   "id": "ca6f3319",
   "metadata": {},
   "outputs": [],
   "source": [
    "from sklearn.preprocessing import StandardScaler\n",
    "scaler = StandardScaler()\n",
    "X_train = scaler.fit_transform(X_train)\n",
    "X_test = scaler.fit_transform(X_test)"
   ]
  },
  {
   "cell_type": "markdown",
   "id": "e028c1dc",
   "metadata": {},
   "source": [
    "Fitting into linear model"
   ]
  },
  {
   "cell_type": "code",
   "execution_count": 5,
   "id": "9ea3ca5a",
   "metadata": {},
   "outputs": [],
   "source": [
    "from sklearn.linear_model import LinearRegression\n",
    "model = LinearRegression()\n",
    "model.fit(X_train, y_train)\n",
    "result = model.predict(X_test)"
   ]
  },
  {
   "cell_type": "code",
   "execution_count": 6,
   "id": "69475350",
   "metadata": {},
   "outputs": [
    {
     "data": {
      "text/plain": [
       "array([149.75685653, 191.23894878, 144.99765835, 308.2392461 ,\n",
       "       135.55185658, 101.11224602, 269.52744222, 194.08720525,\n",
       "       102.71279275, 118.74805116, 104.00999166, 182.3985081 ,\n",
       "        63.75470836, 222.58497547, 112.88024423, 142.88173554,\n",
       "       232.5232517 , 265.55754803, 212.47025262, 233.06931101,\n",
       "       219.77085051,  97.16940484,  79.87840784, 203.12202014,\n",
       "       165.17609256, 172.95901167, 201.65514889, 196.37081952,\n",
       "        57.15895691, 120.31482889, 183.09312592,  96.80797149,\n",
       "       142.66542464, 199.39529609, 183.05559088, 203.0955264 ,\n",
       "       136.64072601, 131.6510423 , 161.32453782,  67.29605716,\n",
       "        82.3243273 , 120.3548651 , 180.07818504, 167.78833731,\n",
       "       185.60340222,  69.74095708,  80.71614044, 126.40349108,\n",
       "        61.95206421, 179.21497496, 161.70371134,  72.54003606,\n",
       "       112.89003338, 120.07078536, 191.22782172, 164.38704828,\n",
       "       104.59273454, 224.0885385 , 130.33918852,  86.18585062,\n",
       "       199.55111706, 218.74507338, 151.04307119, 119.18132507,\n",
       "       143.13589351, 215.9516368 , 186.15065334, 179.82953673,\n",
       "       135.55327864, 157.0597481 , 197.2713168 , 213.87372745,\n",
       "       251.96104531, 158.91667397,  89.51766358, 171.72198608,\n",
       "       205.95460931, 221.69998051, 171.35610564, 219.92704972,\n",
       "       118.06297284, 152.12333754,  62.55072637,  64.77628356,\n",
       "       127.29942142,  87.89298242,  91.80629173,  63.64242524,\n",
       "       177.09031063])"
      ]
     },
     "execution_count": 6,
     "metadata": {},
     "output_type": "execute_result"
    }
   ],
   "source": [
    "result"
   ]
  },
  {
   "cell_type": "code",
   "execution_count": 7,
   "id": "2d2fbce7",
   "metadata": {},
   "outputs": [
    {
     "data": {
      "text/plain": [
       "array([219.,  70., 202., 230., 111.,  84., 242., 272.,  94.,  96.,  94.,\n",
       "       252.,  99., 297., 135.,  67., 295., 264., 170., 275., 310.,  64.,\n",
       "       128., 232., 129., 118., 263.,  77.,  48., 107., 140., 113.,  90.,\n",
       "       164., 180., 233.,  42.,  84., 172.,  63.,  48., 108., 156., 168.,\n",
       "        90.,  52., 200.,  87.,  90., 258., 136., 158.,  69.,  72., 171.,\n",
       "        95.,  72., 151., 168.,  60., 122.,  52., 187., 102., 214., 248.,\n",
       "       181., 110., 140., 202., 101., 222., 281.,  61.,  89.,  91., 186.,\n",
       "       220., 237., 233.,  68., 190.,  96.,  72., 153.,  98.,  37.,  63.,\n",
       "       184.])"
      ]
     },
     "execution_count": 7,
     "metadata": {},
     "output_type": "execute_result"
    }
   ],
   "source": [
    "y_test"
   ]
  },
  {
   "cell_type": "markdown",
   "id": "bb7f7d72",
   "metadata": {},
   "source": [
    "Calculating MSE score"
   ]
  },
  {
   "cell_type": "code",
   "execution_count": 8,
   "id": "0560d444",
   "metadata": {},
   "outputs": [
    {
     "name": "stdout",
     "output_type": "stream",
     "text": [
      "2972.851534699921\n"
     ]
    }
   ],
   "source": [
    "from sklearn.metrics import mean_squared_error\n",
    "print(mean_squared_error(result, y_test))"
   ]
  }
 ],
 "metadata": {
  "kernelspec": {
   "display_name": "Python 3 (ipykernel)",
   "language": "python",
   "name": "python3"
  },
  "language_info": {
   "codemirror_mode": {
    "name": "ipython",
    "version": 3
   },
   "file_extension": ".py",
   "mimetype": "text/x-python",
   "name": "python",
   "nbconvert_exporter": "python",
   "pygments_lexer": "ipython3",
   "version": "3.10.9"
  }
 },
 "nbformat": 4,
 "nbformat_minor": 5
}
