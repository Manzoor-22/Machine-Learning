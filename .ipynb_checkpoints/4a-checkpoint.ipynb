{
 "cells": [
  {
   "cell_type": "markdown",
   "id": "f08edee2",
   "metadata": {},
   "source": [
    "1. Write a program to demonstrate the following"
   ]
  },
  {
   "cell_type": "markdown",
   "id": "36616036",
   "metadata": {},
   "source": [
    "a) Create, concatenate and print a string and access substring from a given string."
   ]
  },
  {
   "cell_type": "code",
   "execution_count": 1,
   "id": "35cf9d79",
   "metadata": {},
   "outputs": [
    {
     "name": "stdout",
     "output_type": "stream",
     "text": [
      "AString =  Machine Learning\n",
      "AString + 'Lab' =  Machine Learning Lab\n",
      "AString[:3] =  Mac\n"
     ]
    }
   ],
   "source": [
    "AString = 'Machine Learning'\n",
    "print(\"AString = \", AString)\n",
    "Concatenation = AString + ' Lab'\n",
    "print(\"AString + 'Lab' = \", Concatenation)\n",
    "Substring = AString[:3]\n",
    "print(\"AString[:3] = \", Substring)"
   ]
  },
  {
   "cell_type": "markdown",
   "id": "c0c6607e",
   "metadata": {},
   "source": [
    "b)\tAppend, and remove lists in python"
   ]
  },
  {
   "cell_type": "code",
   "execution_count": 2,
   "id": "96b98971",
   "metadata": {
    "scrolled": true
   },
   "outputs": [
    {
     "name": "stdout",
     "output_type": "stream",
     "text": [
      "AList =  [1, 3, 6, 7]\n",
      "AList.append(2) =  [1, 3, 6, 7, 2]\n",
      "AList.append(5) =  [1, 3, 6, 7, 2, 5]\n",
      "AList.remove(6) =  [1, 3, 7, 2, 5]\n"
     ]
    }
   ],
   "source": [
    "AList = [1, 3, 6, 7]\n",
    "print(\"AList = \", AList)\n",
    "AList.append(2)\n",
    "print(\"AList.append(2) = \", AList)\n",
    "AList.append(5)\n",
    "print(\"AList.append(5) = \", AList)\n",
    "AList.remove(6)\n",
    "print(\"AList.remove(6) = \", AList)"
   ]
  }
 ],
 "metadata": {
  "kernelspec": {
   "display_name": "Python 3 (ipykernel)",
   "language": "python",
   "name": "python3"
  },
  "language_info": {
   "codemirror_mode": {
    "name": "ipython",
    "version": 3
   },
   "file_extension": ".py",
   "mimetype": "text/x-python",
   "name": "python",
   "nbconvert_exporter": "python",
   "pygments_lexer": "ipython3",
   "version": "3.10.9"
  }
 },
 "nbformat": 4,
 "nbformat_minor": 5
}
