{
 "cells": [
  {
   "cell_type": "markdown",
   "id": "188060bc",
   "metadata": {},
   "source": [
    "2.\tThe dataset contains information of users from a company‘s database. It contains information about UserID, Gender,  Age, Estimated Salary, and Purchased. Use this dataset for predicting that a user will purchase the company‘s newly launched product or not by Logistic Regression model.\n"
   ]
  },
  {
   "cell_type": "code",
   "execution_count": 1,
   "id": "5017eec1",
   "metadata": {},
   "outputs": [],
   "source": [
    "import numpy as np\n",
    "import pandas as pd"
   ]
  },
  {
   "cell_type": "markdown",
   "id": "8b9c704f",
   "metadata": {},
   "source": [
    "Importing the dataset"
   ]
  },
  {
   "cell_type": "code",
   "execution_count": 2,
   "id": "e7e5466c",
   "metadata": {},
   "outputs": [],
   "source": [
    "dataset = pd.read_csv('logdata.csv')\n",
    "\n",
    "X = dataset[['Age', 'EstimatedSalary']]\n",
    "y = dataset['Purchased']"
   ]
  },
  {
   "cell_type": "markdown",
   "id": "18d49e61",
   "metadata": {},
   "source": [
    "Splitting the dataset"
   ]
  },
  {
   "cell_type": "code",
   "execution_count": 3,
   "id": "2807481e",
   "metadata": {},
   "outputs": [],
   "source": [
    "from sklearn.model_selection import train_test_split\n",
    "X_train, X_test, y_train, y_test = train_test_split(X, y, test_size = 0.2, random_state=42)"
   ]
  },
  {
   "cell_type": "markdown",
   "id": "e77d060d",
   "metadata": {},
   "source": [
    "Feature Scaling"
   ]
  },
  {
   "cell_type": "code",
   "execution_count": 4,
   "id": "47565831",
   "metadata": {},
   "outputs": [],
   "source": [
    "from sklearn.preprocessing import StandardScaler\n",
    "scaler = StandardScaler()\n",
    "X_train = scaler.fit_transform(X_train)\n",
    "X_test = scaler.fit_transform(X_test)"
   ]
  },
  {
   "cell_type": "markdown",
   "id": "d3696fc4",
   "metadata": {},
   "source": [
    "Fitting into Logistic Regression Model"
   ]
  },
  {
   "cell_type": "code",
   "execution_count": 5,
   "id": "9ae10243",
   "metadata": {},
   "outputs": [],
   "source": [
    "from sklearn.linear_model import LogisticRegression\n",
    "model = LogisticRegression()\n",
    "model.fit(X_train, y_train)\n",
    "result = model.predict(X_test)"
   ]
  },
  {
   "cell_type": "markdown",
   "id": "e78c172a",
   "metadata": {},
   "source": [
    "Metrics"
   ]
  },
  {
   "cell_type": "code",
   "execution_count": 6,
   "id": "fb1014a1",
   "metadata": {},
   "outputs": [
    {
     "name": "stdout",
     "output_type": "stream",
     "text": [
      "Confusion matrix = \n",
      " [[1 0]\n",
      " [0 1]]\n",
      "Accuracy =  1.0\n",
      "Precision =  1.0\n",
      "Recall =  1.0\n",
      "F1-Score =  1.0\n"
     ]
    }
   ],
   "source": [
    "from sklearn.metrics import confusion_matrix, accuracy_score, precision_score, recall_score, f1_score\n",
    "\n",
    "print(\"Confusion matrix = \\n\", confusion_matrix(result, y_test))\n",
    "print(\"Accuracy = \", accuracy_score(result, y_test))\n",
    "print(\"Precision = \", precision_score(result, y_test))\n",
    "print(\"Recall = \", recall_score(result, y_test))\n",
    "print(\"F1-Score = \", f1_score(result,y_test))"
   ]
  }
 ],
 "metadata": {
  "kernelspec": {
   "display_name": "Python 3 (ipykernel)",
   "language": "python",
   "name": "python3"
  },
  "language_info": {
   "codemirror_mode": {
    "name": "ipython",
    "version": 3
   },
   "file_extension": ".py",
   "mimetype": "text/x-python",
   "name": "python",
   "nbconvert_exporter": "python",
   "pygments_lexer": "ipython3",
   "version": "3.10.9"
  }
 },
 "nbformat": 4,
 "nbformat_minor": 5
}
