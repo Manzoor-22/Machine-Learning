{
 "cells": [
  {
   "cell_type": "markdown",
   "id": "eed5db33",
   "metadata": {},
   "source": [
    "2. Build a linear regression model using python for any particular data set."
   ]
  },
  {
   "cell_type": "code",
   "execution_count": 1,
   "id": "1fcb4b0e",
   "metadata": {},
   "outputs": [],
   "source": [
    "import numpy as np\n",
    "import pandas as pd"
   ]
  },
  {
   "cell_type": "markdown",
   "id": "ef786cd4",
   "metadata": {},
   "source": [
    "Importing iris dataset"
   ]
  },
  {
   "cell_type": "code",
   "execution_count": 2,
   "id": "c1ee318d",
   "metadata": {},
   "outputs": [],
   "source": [
    "from sklearn.datasets import load_diabetes\n",
    "diabetes = load_diabetes()\n",
    "X = diabetes.data\n",
    "y = diabetes.target"
   ]
  },
  {
   "cell_type": "markdown",
   "id": "b6c8498e",
   "metadata": {},
   "source": [
    "Standardization the dataset"
   ]
  },
  {
   "cell_type": "code",
   "execution_count": 3,
   "id": "641a636a",
   "metadata": {},
   "outputs": [],
   "source": [
    "from sklearn.preprocessing import StandardScaler\n",
    "scaler = StandardScaler()\n",
    "X = scaler.fit_transform(X)"
   ]
  },
  {
   "cell_type": "markdown",
   "id": "35ca1980",
   "metadata": {},
   "source": [
    "Splitting training and testing data"
   ]
  },
  {
   "cell_type": "code",
   "execution_count": 4,
   "id": "015e5faa",
   "metadata": {},
   "outputs": [],
   "source": [
    "from sklearn.model_selection import train_test_split\n",
    "X_train, X_test, y_train, y_test = train_test_split(X,y,test_size = 0.2, random_state = 42)"
   ]
  },
  {
   "cell_type": "markdown",
   "id": "0bfa471d",
   "metadata": {},
   "source": [
    "Fitting the dataset"
   ]
  },
  {
   "cell_type": "code",
   "execution_count": 5,
   "id": "07df387b",
   "metadata": {},
   "outputs": [],
   "source": [
    "from sklearn.linear_model import LinearRegression\n",
    "model = LinearRegression()\n",
    "model.fit(X_train, y_train)\n",
    "result = model.predict(X_test)"
   ]
  },
  {
   "cell_type": "markdown",
   "id": "600c6bf9",
   "metadata": {},
   "source": [
    "Calculating Metrics"
   ]
  },
  {
   "cell_type": "code",
   "execution_count": 6,
   "id": "6ba06582",
   "metadata": {},
   "outputs": [
    {
     "name": "stdout",
     "output_type": "stream",
     "text": [
      "MSE =  2900.193628493481\n",
      "MAE =  42.79409467959994\n"
     ]
    }
   ],
   "source": [
    "from sklearn.metrics import mean_squared_error, mean_absolute_error\n",
    "print(\"MSE = \", mean_squared_error(y_test, result))\n",
    "print(\"MAE = \", mean_absolute_error(y_test, result))"
   ]
  }
 ],
 "metadata": {
  "kernelspec": {
   "display_name": "Python 3 (ipykernel)",
   "language": "python",
   "name": "python3"
  },
  "language_info": {
   "codemirror_mode": {
    "name": "ipython",
    "version": 3
   },
   "file_extension": ".py",
   "mimetype": "text/x-python",
   "name": "python",
   "nbconvert_exporter": "python",
   "pygments_lexer": "ipython3",
   "version": "3.10.9"
  }
 },
 "nbformat": 4,
 "nbformat_minor": 5
}
