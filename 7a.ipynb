{
 "cells": [
  {
   "cell_type": "markdown",
   "id": "f179896a",
   "metadata": {},
   "source": [
    "1. Using python write a NumPy program to compute the"
   ]
  },
  {
   "cell_type": "code",
   "execution_count": 1,
   "id": "7c4011be",
   "metadata": {},
   "outputs": [],
   "source": [
    "import numpy as np\n",
    "\n",
    "arr = np.array([1,3,4,6,8,3,8,1,4])"
   ]
  },
  {
   "cell_type": "markdown",
   "id": "59643798",
   "metadata": {},
   "source": [
    "a) Expected Value"
   ]
  },
  {
   "cell_type": "code",
   "execution_count": 2,
   "id": "e8b2a396",
   "metadata": {},
   "outputs": [
    {
     "name": "stdout",
     "output_type": "stream",
     "text": [
      "Expected value =  4.222222222222222\n"
     ]
    }
   ],
   "source": [
    "expected_value = np.mean(arr)\n",
    "print(\"Expected value = \", expected_value)"
   ]
  },
  {
   "cell_type": "markdown",
   "id": "61625470",
   "metadata": {},
   "source": [
    "b) Mean"
   ]
  },
  {
   "cell_type": "code",
   "execution_count": 3,
   "id": "80b8aafa",
   "metadata": {},
   "outputs": [
    {
     "name": "stdout",
     "output_type": "stream",
     "text": [
      "Mean =  4.222222222222222\n"
     ]
    }
   ],
   "source": [
    "mean = np.mean(arr)\n",
    "print(\"Mean = \", mean)"
   ]
  },
  {
   "cell_type": "markdown",
   "id": "e5a6ac61",
   "metadata": {},
   "source": [
    "c) Standard deviation"
   ]
  },
  {
   "cell_type": "code",
   "execution_count": 4,
   "id": "86894d59",
   "metadata": {},
   "outputs": [
    {
     "name": "stdout",
     "output_type": "stream",
     "text": [
      "Standard Deviation =  2.4845199749997664\n"
     ]
    }
   ],
   "source": [
    "standard_deviation = np.std(arr)\n",
    "print(\"Standard Deviation = \", standard_deviation)"
   ]
  },
  {
   "cell_type": "markdown",
   "id": "e117e027",
   "metadata": {},
   "source": [
    "d) Variance"
   ]
  },
  {
   "cell_type": "code",
   "execution_count": 5,
   "id": "e9904c97",
   "metadata": {},
   "outputs": [
    {
     "name": "stdout",
     "output_type": "stream",
     "text": [
      "Variance =  6.172839506172839\n"
     ]
    }
   ],
   "source": [
    "variance = np.var(arr)\n",
    "print(\"Variance = \", variance)"
   ]
  },
  {
   "cell_type": "markdown",
   "id": "49c667df",
   "metadata": {},
   "source": [
    "e) Covariance"
   ]
  },
  {
   "cell_type": "code",
   "execution_count": 6,
   "id": "bf7fc6af",
   "metadata": {},
   "outputs": [
    {
     "name": "stdout",
     "output_type": "stream",
     "text": [
      "Covariance =  1.375\n"
     ]
    }
   ],
   "source": [
    "arr2 = np.array([1,2,3,4,5,6,7,8,9])\n",
    "\n",
    "covariance = np.cov(arr, arr2)\n",
    "print(\"Covariance = \", covariance[0][1])"
   ]
  }
 ],
 "metadata": {
  "kernelspec": {
   "display_name": "Python 3 (ipykernel)",
   "language": "python",
   "name": "python3"
  },
  "language_info": {
   "codemirror_mode": {
    "name": "ipython",
    "version": 3
   },
   "file_extension": ".py",
   "mimetype": "text/x-python",
   "name": "python",
   "nbconvert_exporter": "python",
   "pygments_lexer": "ipython3",
   "version": "3.10.9"
  }
 },
 "nbformat": 4,
 "nbformat_minor": 5
}
