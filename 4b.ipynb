{
 "cells": [
  {
   "cell_type": "markdown",
   "id": "b6cce61a",
   "metadata": {},
   "source": [
    "Evaluate the metrics for Regression algorithms using any sample data."
   ]
  },
  {
   "cell_type": "code",
   "execution_count": 1,
   "id": "3841f035",
   "metadata": {},
   "outputs": [],
   "source": [
    "import numpy as np"
   ]
  },
  {
   "cell_type": "markdown",
   "id": "595ce0a1",
   "metadata": {},
   "source": [
    "Importing a dataset"
   ]
  },
  {
   "cell_type": "code",
   "execution_count": 2,
   "id": "5fb77844",
   "metadata": {},
   "outputs": [],
   "source": [
    "from sklearn.datasets import load_diabetes\n",
    "diabetes = load_diabetes()\n",
    "X = diabetes.data\n",
    "y = diabetes.target"
   ]
  },
  {
   "cell_type": "markdown",
   "id": "d356e7ef",
   "metadata": {},
   "source": [
    "Splitting the dataset"
   ]
  },
  {
   "cell_type": "code",
   "execution_count": 3,
   "id": "bc63dd76",
   "metadata": {},
   "outputs": [],
   "source": [
    "from sklearn.model_selection import train_test_split\n",
    "X_train, X_test, y_train, y_test = train_test_split(X, y, test_size=0.2, random_state=42)"
   ]
  },
  {
   "cell_type": "markdown",
   "id": "e9a814e5",
   "metadata": {},
   "source": [
    "Trying out different regression models"
   ]
  },
  {
   "cell_type": "markdown",
   "id": "dc4d805b",
   "metadata": {},
   "source": [
    "1. Logistic Regression"
   ]
  },
  {
   "cell_type": "code",
   "execution_count": 4,
   "id": "789f21b9",
   "metadata": {},
   "outputs": [],
   "source": [
    "from sklearn.linear_model import LogisticRegression\n",
    "model1 = LogisticRegression()\n",
    "model1.fit(X_train, y_train)\n",
    "result1 = model1.predict(X_test)"
   ]
  },
  {
   "cell_type": "markdown",
   "id": "b95b1d74",
   "metadata": {},
   "source": [
    "2. Linear Regression"
   ]
  },
  {
   "cell_type": "code",
   "execution_count": 5,
   "id": "e698c492",
   "metadata": {},
   "outputs": [],
   "source": [
    "from sklearn.linear_model import LinearRegression\n",
    "model2 = LinearRegression()\n",
    "model2.fit(X_train, y_train)\n",
    "result2 = model2.predict(X_test)"
   ]
  },
  {
   "cell_type": "markdown",
   "id": "72a15326",
   "metadata": {},
   "source": [
    "3. SVM (Support Vector Regression)"
   ]
  },
  {
   "cell_type": "code",
   "execution_count": 6,
   "id": "e2646b10",
   "metadata": {},
   "outputs": [],
   "source": [
    "from sklearn.svm import SVR\n",
    "model3 = SVR()\n",
    "model3.fit(X_train, y_train)\n",
    "result3 = model3.predict(X_test)"
   ]
  },
  {
   "cell_type": "markdown",
   "id": "f0b90e84",
   "metadata": {},
   "source": [
    "Printing out the Metrics"
   ]
  },
  {
   "cell_type": "code",
   "execution_count": 7,
   "id": "a9ac1cd1",
   "metadata": {},
   "outputs": [],
   "source": [
    "from sklearn.metrics import mean_squared_error, mean_absolute_error, r2_score"
   ]
  },
  {
   "cell_type": "code",
   "execution_count": 8,
   "id": "e3798241",
   "metadata": {},
   "outputs": [
    {
     "name": "stdout",
     "output_type": "stream",
     "text": [
      "1. Logistic Regression\n",
      "MSE =  5691.91011235955\n",
      "MAE =  61.640449438202246\n",
      "R2 Score =  -0.6226013290428292\n"
     ]
    }
   ],
   "source": [
    "print(\"1. Logistic Regression\")\n",
    "print(\"MSE = \", mean_squared_error(result1, y_test))\n",
    "print(\"MAE = \", mean_absolute_error(result1, y_test))\n",
    "print(\"R2 Score = \", r2_score(result1, y_test))"
   ]
  },
  {
   "cell_type": "code",
   "execution_count": 9,
   "id": "1fa7cb9e",
   "metadata": {},
   "outputs": [
    {
     "name": "stdout",
     "output_type": "stream",
     "text": [
      "2. Decision Tree\n",
      "MSE =  2900.1936284934804\n",
      "MAE =  42.79409467959993\n",
      "R2 Score =  0.0069049158321623505\n"
     ]
    }
   ],
   "source": [
    "print(\"2. Decision Tree\")\n",
    "print(\"MSE = \", mean_squared_error(result2, y_test))\n",
    "print(\"MAE = \", mean_absolute_error(result2, y_test))\n",
    "print(\"R2 Score = \", r2_score(result2, y_test))"
   ]
  },
  {
   "cell_type": "code",
   "execution_count": 10,
   "id": "ad1566e9",
   "metadata": {},
   "outputs": [
    {
     "name": "stdout",
     "output_type": "stream",
     "text": [
      "3. SVR\n",
      "MSE =  4333.285954518086\n",
      "MAE =  56.02372412801096\n",
      "R2 Score =  -27.86203242242687\n"
     ]
    }
   ],
   "source": [
    "print(\"3. SVR\")\n",
    "print(\"MSE = \", mean_squared_error(result3, y_test))\n",
    "print(\"MAE = \", mean_absolute_error(result3, y_test))\n",
    "print(\"R2 Score = \", r2_score(result3, y_test))"
   ]
  },
  {
   "cell_type": "code",
   "execution_count": null,
   "id": "1edeaec0",
   "metadata": {},
   "outputs": [],
   "source": []
  }
 ],
 "metadata": {
  "kernelspec": {
   "display_name": "Python 3 (ipykernel)",
   "language": "python",
   "name": "python3"
  },
  "language_info": {
   "codemirror_mode": {
    "name": "ipython",
    "version": 3
   },
   "file_extension": ".py",
   "mimetype": "text/x-python",
   "name": "python",
   "nbconvert_exporter": "python",
   "pygments_lexer": "ipython3",
   "version": "3.10.9"
  }
 },
 "nbformat": 4,
 "nbformat_minor": 5
}
