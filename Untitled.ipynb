{
 "cells": [
  {
   "cell_type": "markdown",
   "id": "32df6711",
   "metadata": {},
   "source": [
    "3. Given the following data, which specify classifications for nine combinations of VAR1 and VAR2 predict a classification for a case where VAR1=0.906 and VAR2=0.606, using the result of k-means clustering with 3 means (i.e., 3 centroids)\n"
   ]
  },
  {
   "cell_type": "code",
   "execution_count": 1,
   "id": "7d9dcbb7",
   "metadata": {},
   "outputs": [],
   "source": [
    "import pandas as pd\n",
    "import numpy as np"
   ]
  },
  {
   "cell_type": "markdown",
   "id": "4654760e",
   "metadata": {},
   "source": [
    "Creating a Dataset"
   ]
  },
  {
   "cell_type": "code",
   "execution_count": 2,
   "id": "cb161186",
   "metadata": {},
   "outputs": [],
   "source": [
    "X = np.array([[1.713, 1.586], [0.180, 1.786], [0.353, 1.240 ], [0.940, 1.566 ], [1.486, 0.759], [1.266, 1.106], [1.540, 0.419], [0.459, 1.799], [0.773, 0.186]])\n",
    "y = np.array([0, 1, 1, 0, 1, 0, 1, 1, 1])"
   ]
  },
  {
   "cell_type": "code",
   "execution_count": 3,
   "id": "3f2541c5",
   "metadata": {},
   "outputs": [
    {
     "name": "stdout",
     "output_type": "stream",
     "text": [
      "Input data is \n",
      "VAR1\tVAR2\tCLASS\n",
      "====================\n",
      "1.713 \t 1.586 \t 0\n",
      "0.18 \t 1.786 \t 1\n",
      "0.353 \t 1.24 \t 1\n",
      "0.94 \t 1.566 \t 0\n",
      "1.486 \t 0.759 \t 1\n",
      "1.266 \t 1.106 \t 0\n",
      "1.54 \t 0.419 \t 1\n",
      "0.459 \t 1.799 \t 1\n",
      "0.773 \t 0.186 \t 1\n",
      "====================\n"
     ]
    }
   ],
   "source": [
    "i = 0\n",
    "print(\"Input data is \")\n",
    "print(\"VAR1\\tVAR2\\tCLASS\")\n",
    "print(\"=\"*20)\n",
    "for val in X:\n",
    "    print(val[0], \"\\t\", val[1], \"\\t\", y[i])\n",
    "    i += 1\n",
    "print(\"=\"*20)"
   ]
  },
  {
   "cell_type": "markdown",
   "id": "3d49b3d8",
   "metadata": {},
   "source": [
    "Fitting into model"
   ]
  },
  {
   "cell_type": "code",
   "execution_count": 4,
   "id": "f458d38e",
   "metadata": {},
   "outputs": [
    {
     "name": "stderr",
     "output_type": "stream",
     "text": [
      "C:\\ProgramData\\anaconda3\\lib\\site-packages\\sklearn\\cluster\\_kmeans.py:870: FutureWarning: The default value of `n_init` will change from 10 to 'auto' in 1.4. Set the value of `n_init` explicitly to suppress the warning\n",
      "  warnings.warn(\n",
      "C:\\ProgramData\\anaconda3\\lib\\site-packages\\sklearn\\cluster\\_kmeans.py:1382: UserWarning: KMeans is known to have a memory leak on Windows with MKL, when there are less chunks than available threads. You can avoid it by setting the environment variable OMP_NUM_THREADS=1.\n",
      "  warnings.warn(\n"
     ]
    },
    {
     "data": {
      "text/html": [
       "<style>#sk-container-id-1 {color: black;background-color: white;}#sk-container-id-1 pre{padding: 0;}#sk-container-id-1 div.sk-toggleable {background-color: white;}#sk-container-id-1 label.sk-toggleable__label {cursor: pointer;display: block;width: 100%;margin-bottom: 0;padding: 0.3em;box-sizing: border-box;text-align: center;}#sk-container-id-1 label.sk-toggleable__label-arrow:before {content: \"▸\";float: left;margin-right: 0.25em;color: #696969;}#sk-container-id-1 label.sk-toggleable__label-arrow:hover:before {color: black;}#sk-container-id-1 div.sk-estimator:hover label.sk-toggleable__label-arrow:before {color: black;}#sk-container-id-1 div.sk-toggleable__content {max-height: 0;max-width: 0;overflow: hidden;text-align: left;background-color: #f0f8ff;}#sk-container-id-1 div.sk-toggleable__content pre {margin: 0.2em;color: black;border-radius: 0.25em;background-color: #f0f8ff;}#sk-container-id-1 input.sk-toggleable__control:checked~div.sk-toggleable__content {max-height: 200px;max-width: 100%;overflow: auto;}#sk-container-id-1 input.sk-toggleable__control:checked~label.sk-toggleable__label-arrow:before {content: \"▾\";}#sk-container-id-1 div.sk-estimator input.sk-toggleable__control:checked~label.sk-toggleable__label {background-color: #d4ebff;}#sk-container-id-1 div.sk-label input.sk-toggleable__control:checked~label.sk-toggleable__label {background-color: #d4ebff;}#sk-container-id-1 input.sk-hidden--visually {border: 0;clip: rect(1px 1px 1px 1px);clip: rect(1px, 1px, 1px, 1px);height: 1px;margin: -1px;overflow: hidden;padding: 0;position: absolute;width: 1px;}#sk-container-id-1 div.sk-estimator {font-family: monospace;background-color: #f0f8ff;border: 1px dotted black;border-radius: 0.25em;box-sizing: border-box;margin-bottom: 0.5em;}#sk-container-id-1 div.sk-estimator:hover {background-color: #d4ebff;}#sk-container-id-1 div.sk-parallel-item::after {content: \"\";width: 100%;border-bottom: 1px solid gray;flex-grow: 1;}#sk-container-id-1 div.sk-label:hover label.sk-toggleable__label {background-color: #d4ebff;}#sk-container-id-1 div.sk-serial::before {content: \"\";position: absolute;border-left: 1px solid gray;box-sizing: border-box;top: 0;bottom: 0;left: 50%;z-index: 0;}#sk-container-id-1 div.sk-serial {display: flex;flex-direction: column;align-items: center;background-color: white;padding-right: 0.2em;padding-left: 0.2em;position: relative;}#sk-container-id-1 div.sk-item {position: relative;z-index: 1;}#sk-container-id-1 div.sk-parallel {display: flex;align-items: stretch;justify-content: center;background-color: white;position: relative;}#sk-container-id-1 div.sk-item::before, #sk-container-id-1 div.sk-parallel-item::before {content: \"\";position: absolute;border-left: 1px solid gray;box-sizing: border-box;top: 0;bottom: 0;left: 50%;z-index: -1;}#sk-container-id-1 div.sk-parallel-item {display: flex;flex-direction: column;z-index: 1;position: relative;background-color: white;}#sk-container-id-1 div.sk-parallel-item:first-child::after {align-self: flex-end;width: 50%;}#sk-container-id-1 div.sk-parallel-item:last-child::after {align-self: flex-start;width: 50%;}#sk-container-id-1 div.sk-parallel-item:only-child::after {width: 0;}#sk-container-id-1 div.sk-dashed-wrapped {border: 1px dashed gray;margin: 0 0.4em 0.5em 0.4em;box-sizing: border-box;padding-bottom: 0.4em;background-color: white;}#sk-container-id-1 div.sk-label label {font-family: monospace;font-weight: bold;display: inline-block;line-height: 1.2em;}#sk-container-id-1 div.sk-label-container {text-align: center;}#sk-container-id-1 div.sk-container {/* jupyter's `normalize.less` sets `[hidden] { display: none; }` but bootstrap.min.css set `[hidden] { display: none !important; }` so we also need the `!important` here to be able to override the default hidden behavior on the sphinx rendered scikit-learn.org. See: https://github.com/scikit-learn/scikit-learn/issues/21755 */display: inline-block !important;position: relative;}#sk-container-id-1 div.sk-text-repr-fallback {display: none;}</style><div id=\"sk-container-id-1\" class=\"sk-top-container\"><div class=\"sk-text-repr-fallback\"><pre>KMeans(n_clusters=3, random_state=0)</pre><b>In a Jupyter environment, please rerun this cell to show the HTML representation or trust the notebook. <br />On GitHub, the HTML representation is unable to render, please try loading this page with nbviewer.org.</b></div><div class=\"sk-container\" hidden><div class=\"sk-item\"><div class=\"sk-estimator sk-toggleable\"><input class=\"sk-toggleable__control sk-hidden--visually\" id=\"sk-estimator-id-1\" type=\"checkbox\" checked><label for=\"sk-estimator-id-1\" class=\"sk-toggleable__label sk-toggleable__label-arrow\">KMeans</label><div class=\"sk-toggleable__content\"><pre>KMeans(n_clusters=3, random_state=0)</pre></div></div></div></div></div>"
      ],
      "text/plain": [
       "KMeans(n_clusters=3, random_state=0)"
      ]
     },
     "execution_count": 4,
     "metadata": {},
     "output_type": "execute_result"
    }
   ],
   "source": [
    "from sklearn.cluster import KMeans\n",
    "model = KMeans(n_clusters = 3, random_state=0)\n",
    "model.fit(X, y)"
   ]
  },
  {
   "cell_type": "markdown",
   "id": "4eea5f70",
   "metadata": {},
   "source": [
    "Predicting the output"
   ]
  },
  {
   "cell_type": "code",
   "execution_count": 6,
   "id": "2217cea8",
   "metadata": {},
   "outputs": [
    {
     "name": "stdout",
     "output_type": "stream",
     "text": [
      "Enter value for VAR1 = 0.906\n",
      "Enter value for VAR2 = 0.606\n"
     ]
    },
    {
     "data": {
      "text/plain": [
       "array([0])"
      ]
     },
     "execution_count": 6,
     "metadata": {},
     "output_type": "execute_result"
    }
   ],
   "source": [
    "y_test = []\n",
    "VAR1 = float(input('Enter value for VAR1 = '))\n",
    "VAR2 = float(input(\"Enter value for VAR2 = \"))\n",
    "y_test.append(VAR1)\n",
    "y_test.append(VAR2)\n",
    "\n",
    "model.predict([y_test])"
   ]
  },
  {
   "cell_type": "code",
   "execution_count": 7,
   "id": "17162efa",
   "metadata": {},
   "outputs": [
    {
     "name": "stderr",
     "output_type": "stream",
     "text": [
      "C:\\ProgramData\\anaconda3\\lib\\site-packages\\sklearn\\cluster\\_kmeans.py:870: FutureWarning: The default value of `n_init` will change from 10 to 'auto' in 1.4. Set the value of `n_init` explicitly to suppress the warning\n",
      "  warnings.warn(\n",
      "C:\\ProgramData\\anaconda3\\lib\\site-packages\\sklearn\\cluster\\_kmeans.py:1382: UserWarning: KMeans is known to have a memory leak on Windows with MKL, when there are less chunks than available threads. You can avoid it by setting the environment variable OMP_NUM_THREADS=1.\n",
      "  warnings.warn(\n"
     ]
    },
    {
     "name": "stdout",
     "output_type": "stream",
     "text": [
      "The input data is \n",
      "VAR1 \t VAR2 \t CLASS\n",
      "1.713 \t 1.586 \t 0\n",
      "0.18 \t 1.786 \t 1\n",
      "0.353 \t 1.24 \t 1\n",
      "0.94 \t 1.566 \t 0\n",
      "1.486 \t 0.759 \t 1\n",
      "1.266 \t 1.106 \t 0\n",
      "1.54 \t 0.419 \t 1\n",
      "0.459 \t 1.799 \t 1\n",
      "0.773 \t 0.186 \t 1\n",
      "====================\n",
      "The Test data to predict \n",
      "Enter Value for VAR1 :0.906\n",
      "Enter Value for VAR2 :0.606\n",
      "====================\n",
      "The predicted Class is :  [0]\n"
     ]
    }
   ],
   "source": [
    "from sklearn.cluster import KMeans\n",
    "import numpy as np\n",
    "X = np.array([[1.713,1.586], [0.180,1.786], [0.353,1.240], [0.940,1.566], [1.486,0.759],\n",
    "[1.266,1.106],[1.540,0.419],[0.459,1.799],[0.773,0.186]])\n",
    "y=np.array([0,1,1,0,1,0,1,1,1])\n",
    "kmeans = KMeans(n_clusters=3, random_state=0).fit(X,y)\n",
    "print(\"The input data is \")\n",
    "print(\"VAR1 \\t VAR2 \\t CLASS\")\n",
    "i=0\n",
    "for val in X:\n",
    "    print(val[0],\"\\t\",val[1],\"\\t\",y[i])\n",
    "    i+=1\n",
    "print(\"=\"*20)\n",
    "# To get test data from the user\n",
    "print(\"The Test data to predict \")\n",
    "test_data = []\n",
    "VAR1 = float(input(\"Enter Value for VAR1 :\"))\n",
    "VAR2 = float(input(\"Enter Value for VAR2 :\"))\n",
    "test_data.append(VAR1)\n",
    "test_data.append(VAR2)\n",
    "print(\"=\"*20)\n",
    "print(\"The predicted Class is : \", kmeans.predict([test_data]))"
   ]
  },
  {
   "cell_type": "code",
   "execution_count": null,
   "id": "ad7919f6",
   "metadata": {},
   "outputs": [],
   "source": []
  }
 ],
 "metadata": {
  "kernelspec": {
   "display_name": "Python 3 (ipykernel)",
   "language": "python",
   "name": "python3"
  },
  "language_info": {
   "codemirror_mode": {
    "name": "ipython",
    "version": 3
   },
   "file_extension": ".py",
   "mimetype": "text/x-python",
   "name": "python",
   "nbconvert_exporter": "python",
   "pygments_lexer": "ipython3",
   "version": "3.10.9"
  }
 },
 "nbformat": 4,
 "nbformat_minor": 5
}
