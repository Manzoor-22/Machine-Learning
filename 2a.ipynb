{
 "cells": [
  {
   "cell_type": "markdown",
   "id": "62f03c99",
   "metadata": {},
   "source": [
    "1. Using python write a numpy program to"
   ]
  },
  {
   "cell_type": "code",
   "execution_count": 1,
   "id": "65253291",
   "metadata": {},
   "outputs": [],
   "source": [
    "import numpy as np\n",
    "\n",
    "dataset = np.array([1, 2, 4, 6, 4, 8, 10, 12])"
   ]
  },
  {
   "cell_type": "markdown",
   "id": "06e0f7ff",
   "metadata": {},
   "source": [
    "a) Expected Value (Same as Mean)"
   ]
  },
  {
   "cell_type": "code",
   "execution_count": 2,
   "id": "10e37285",
   "metadata": {},
   "outputs": [
    {
     "name": "stdout",
     "output_type": "stream",
     "text": [
      "Expected value =  5.875\n"
     ]
    }
   ],
   "source": [
    "expected_value = np.mean(dataset)\n",
    "print(\"Expected value = \", expected_value)"
   ]
  },
  {
   "cell_type": "markdown",
   "id": "bbc724be",
   "metadata": {},
   "source": [
    "b) Mean"
   ]
  },
  {
   "cell_type": "code",
   "execution_count": 3,
   "id": "9dc40b91",
   "metadata": {},
   "outputs": [
    {
     "name": "stdout",
     "output_type": "stream",
     "text": [
      "Mean =  5.875\n"
     ]
    }
   ],
   "source": [
    "mean = np.mean(dataset)\n",
    "print(\"Mean = \", mean)"
   ]
  },
  {
   "cell_type": "markdown",
   "id": "8b21f1d8",
   "metadata": {},
   "source": [
    "c) Standard deviation"
   ]
  },
  {
   "cell_type": "code",
   "execution_count": 4,
   "id": "a6ea4802",
   "metadata": {},
   "outputs": [
    {
     "name": "stdout",
     "output_type": "stream",
     "text": [
      "Standard Deviation =  3.6206870894900596\n"
     ]
    }
   ],
   "source": [
    "standard_deviation = np.std(dataset)\n",
    "print(\"Standard Deviation = \", standard_deviation)"
   ]
  },
  {
   "cell_type": "markdown",
   "id": "b08f019f",
   "metadata": {},
   "source": [
    "d) Variance"
   ]
  },
  {
   "cell_type": "code",
   "execution_count": 5,
   "id": "f39c2a0e",
   "metadata": {},
   "outputs": [
    {
     "name": "stdout",
     "output_type": "stream",
     "text": [
      "Variance =  13.109375\n"
     ]
    }
   ],
   "source": [
    "variance = np.var(dataset)\n",
    "print(\"Variance = \", variance)"
   ]
  },
  {
   "cell_type": "markdown",
   "id": "ede13946",
   "metadata": {},
   "source": [
    "e) Covariance"
   ]
  },
  {
   "cell_type": "code",
   "execution_count": 6,
   "id": "63f54f1e",
   "metadata": {},
   "outputs": [
    {
     "name": "stdout",
     "output_type": "stream",
     "text": [
      "Covariance =  14.982142857142856\n"
     ]
    }
   ],
   "source": [
    "covariance = np.cov(dataset)\n",
    "print(\"Covariance = \", covariance)"
   ]
  }
 ],
 "metadata": {
  "kernelspec": {
   "display_name": "Python 3 (ipykernel)",
   "language": "python",
   "name": "python3"
  },
  "language_info": {
   "codemirror_mode": {
    "name": "ipython",
    "version": 3
   },
   "file_extension": ".py",
   "mimetype": "text/x-python",
   "name": "python",
   "nbconvert_exporter": "python",
   "pygments_lexer": "ipython3",
   "version": "3.10.9"
  }
 },
 "nbformat": 4,
 "nbformat_minor": 5
}
