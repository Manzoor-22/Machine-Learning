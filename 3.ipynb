{
 "cells": [
  {
   "cell_type": "markdown",
   "id": "7eddada8",
   "metadata": {},
   "source": [
    "1. The probability that it is Friday and that a student is absent is 3 %. Since there are 5\n",
    "school days in a week, the probability that it is Friday is 20 %. What is the probability that a\n",
    "student is absent given that today is Friday? Apply Bayes rule in python to get the result.\n"
   ]
  },
  {
   "cell_type": "code",
   "execution_count": 7,
   "id": "e462adbc",
   "metadata": {},
   "outputs": [
    {
     "name": "stdout",
     "output_type": "stream",
     "text": [
      "15.0\n"
     ]
    }
   ],
   "source": [
    "probAbsentFriday = 0.03\n",
    "probFriday = 0.2\n",
    "\n",
    "bayesResult = probAbsentFriday / probFriday\n",
    "\n",
    "print(bayesResult * 100)"
   ]
  },
  {
   "cell_type": "markdown",
   "id": "679d5f04",
   "metadata": {},
   "source": [
    "2. Implement an algorithm to demonstrate the significance of SVM."
   ]
  },
  {
   "cell_type": "code",
   "execution_count": 8,
   "id": "998fbee4",
   "metadata": {},
   "outputs": [],
   "source": [
    "import numpy as np\n",
    "import pandas as pd"
   ]
  },
  {
   "cell_type": "markdown",
   "id": "d8dd3fca",
   "metadata": {},
   "source": [
    "Importing iris dataset"
   ]
  },
  {
   "cell_type": "code",
   "execution_count": 11,
   "id": "43e51573",
   "metadata": {},
   "outputs": [],
   "source": [
    "from sklearn.datasets import load_iris\n",
    "iris = load_iris()\n",
    "X = iris.data\n",
    "y = iris.target"
   ]
  },
  {
   "cell_type": "markdown",
   "id": "f2afb50b",
   "metadata": {},
   "source": [
    "Splitting into training and testing data"
   ]
  },
  {
   "cell_type": "code",
   "execution_count": 12,
   "id": "7378e352",
   "metadata": {},
   "outputs": [],
   "source": [
    "from sklearn.model_selection import train_test_split\n",
    "X_train, X_test, y_train, y_test = train_test_split(X, y, test_size = 0.2, random_state = 42)"
   ]
  },
  {
   "cell_type": "markdown",
   "id": "bb3f652f",
   "metadata": {},
   "source": [
    "Standardizing the dataset"
   ]
  },
  {
   "cell_type": "code",
   "execution_count": 13,
   "id": "6a76264f",
   "metadata": {},
   "outputs": [],
   "source": [
    "from sklearn.preprocessing import StandardScaler\n",
    "scaler = StandardScaler()\n",
    "X_train = scaler.fit_transform(X_train)\n",
    "X_test = scaler.fit_transform(X_test)"
   ]
  },
  {
   "cell_type": "markdown",
   "id": "0775a5ba",
   "metadata": {},
   "source": [
    "Fitting the data"
   ]
  },
  {
   "cell_type": "code",
   "execution_count": 14,
   "id": "d7f12f4a",
   "metadata": {},
   "outputs": [],
   "source": [
    "from sklearn.svm import SVC\n",
    "model = SVC()\n",
    "model.fit(X_train, y_train)\n",
    "result = model.predict(X_test)"
   ]
  },
  {
   "cell_type": "markdown",
   "id": "6caf0196",
   "metadata": {},
   "source": [
    "Calculating Metrics"
   ]
  },
  {
   "cell_type": "code",
   "execution_count": 19,
   "id": "a24c6e4f",
   "metadata": {},
   "outputs": [
    {
     "name": "stdout",
     "output_type": "stream",
     "text": [
      "Confusion matrix = \n",
      " [[10  0  0]\n",
      " [ 0  9  1]\n",
      " [ 0  0 10]]\n",
      "Accuracy =  0.9666666666666667\n"
     ]
    }
   ],
   "source": [
    "from sklearn.metrics import confusion_matrix, accuracy_score\n",
    "print('Confusion matrix = \\n', confusion_matrix(result, y_test))\n",
    "print('Accuracy = ', accuracy_score(result, y_test))"
   ]
  },
  {
   "cell_type": "markdown",
   "id": "d9d2a12b",
   "metadata": {},
   "source": [
    "plot_decision_boundary(svm_classifier, X_test, y_test, title='SVM Decision Boundary')"
   ]
  }
 ],
 "metadata": {
  "kernelspec": {
   "display_name": "Python 3 (ipykernel)",
   "language": "python",
   "name": "python3"
  },
  "language_info": {
   "codemirror_mode": {
    "name": "ipython",
    "version": 3
   },
   "file_extension": ".py",
   "mimetype": "text/x-python",
   "name": "python",
   "nbconvert_exporter": "python",
   "pygments_lexer": "ipython3",
   "version": "3.10.9"
  }
 },
 "nbformat": 4,
 "nbformat_minor": 5
}
