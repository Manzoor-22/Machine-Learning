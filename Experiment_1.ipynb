{
 "cells": [
  {
   "cell_type": "markdown",
   "id": "f6ad4bd6",
   "metadata": {},
   "source": [
    "Program to demonstrate the following"
   ]
  },
  {
   "cell_type": "markdown",
   "id": "453932f3",
   "metadata": {},
   "source": [
    "a) Operation of data types in Python"
   ]
  },
  {
   "cell_type": "code",
   "execution_count": 2,
   "id": "c8f16274",
   "metadata": {},
   "outputs": [
    {
     "name": "stdout",
     "output_type": "stream",
     "text": [
      "Integer =  4\n",
      "Float =  2.16\n",
      "String =  Hello\n",
      "List =  [2, 4, 6]\n",
      "Tuple =  (1, 3, 5)\n",
      "Dictionary =  {1: 'One', 2: 'Two'}\n"
     ]
    }
   ],
   "source": [
    "int_var = 4\n",
    "float_var = 2.16\n",
    "string_var = 'Hello'\n",
    "list_var = [2, 4, 6]\n",
    "tuple_var = (1, 3, 5)\n",
    "dictionary_var = {1 : 'One', 2 : 'Two'}\n",
    "\n",
    "print('Integer = ', int_var)\n",
    "print('Float = ', float_var)\n",
    "print('String = ', string_var)\n",
    "print('List = ', list_var)\n",
    "print('Tuple = ', tuple_var)\n",
    "print('Dictionary = ', dictionary_var)"
   ]
  },
  {
   "cell_type": "markdown",
   "id": "e12859f3",
   "metadata": {},
   "source": [
    "b) Different Arithmetic Operations on numbers in Python. "
   ]
  },
  {
   "cell_type": "code",
   "execution_count": 6,
   "id": "6c117d81",
   "metadata": {},
   "outputs": [
    {
     "name": "stdout",
     "output_type": "stream",
     "text": [
      "a =  10 ; b =  5\n",
      "Addition =  15\n",
      "Subtraction =  5\n",
      "Multiplication =  50\n",
      "Division =  2.0\n",
      "Floor Division =  2\n",
      "Exponent =  100000\n",
      "Modulus =  0\n"
     ]
    }
   ],
   "source": [
    "a, b = 10, 5\n",
    "print('a = ', a, '; b = ', b)\n",
    "print('Addition = ', a + b)\n",
    "print('Subtraction = ', a - b)\n",
    "print('Multiplication = ', a * b)\n",
    "print('Division = ', a / b)\n",
    "print('Floor Division = ', a // b)\n",
    "print('Exponent = ', a ** b)\n",
    "print('Modulus = ', a % b)"
   ]
  },
  {
   "cell_type": "markdown",
   "id": "e68b8537",
   "metadata": {},
   "source": [
    "c) Create, concatenate and print a string and access substring from a given string."
   ]
  },
  {
   "cell_type": "code",
   "execution_count": 8,
   "id": "728d341e",
   "metadata": {},
   "outputs": [
    {
     "name": "stdout",
     "output_type": "stream",
     "text": [
      "AString =  Hello\n",
      "AString + ' World' =  Hello World\n",
      "AString[:3] =  Hel\n"
     ]
    }
   ],
   "source": [
    "AString = 'Hello'\n",
    "print('AString = ', AString)\n",
    "print('AString + \\' World\\' = ', AString + ' World')\n",
    "print('AString[:3] = ', AString[:3])"
   ]
  },
  {
   "cell_type": "markdown",
   "id": "5b795ddb",
   "metadata": {},
   "source": [
    "d) Append, and remove lists in python"
   ]
  },
  {
   "cell_type": "code",
   "execution_count": 9,
   "id": "fed91b33",
   "metadata": {},
   "outputs": [
    {
     "name": "stdout",
     "output_type": "stream",
     "text": [
      "AList =  [2, 4, 6, 8]\n",
      "AList.append(5) =  [2, 4, 6, 8, 5]\n",
      "AList.remove(4) =  [2, 6, 8, 5]\n"
     ]
    }
   ],
   "source": [
    "AList = [2, 4, 6, 8]\n",
    "print('AList = ', AList)\n",
    "AList.append(5)\n",
    "print('AList.append(5) = ', AList)\n",
    "AList.remove(4)\n",
    "print('AList.remove(4) = ', AList)"
   ]
  },
  {
   "cell_type": "markdown",
   "id": "c2c21632",
   "metadata": {},
   "source": [
    "e) Demonstrate working with tuples in python"
   ]
  },
  {
   "cell_type": "code",
   "execution_count": 10,
   "id": "514686bd",
   "metadata": {},
   "outputs": [
    {
     "name": "stdout",
     "output_type": "stream",
     "text": [
      "ATuple =  (1, 3, 5, 7)\n",
      "ATuple[1] =  3\n",
      "ATuple[-1] =  7\n"
     ]
    }
   ],
   "source": [
    "ATuple = (1, 3,  5, 7)\n",
    "print('ATuple = ', ATuple)\n",
    "print('ATuple[1] = ', ATuple[1])\n",
    "print('ATuple[-1] = ', ATuple[-1])"
   ]
  },
  {
   "cell_type": "markdown",
   "id": "081a5b33",
   "metadata": {},
   "source": [
    "f) Demonstrate working with dictionaries in python."
   ]
  },
  {
   "cell_type": "code",
   "execution_count": 11,
   "id": "aa2b3547",
   "metadata": {},
   "outputs": [
    {
     "name": "stdout",
     "output_type": "stream",
     "text": [
      "ADictionary =  {1: 'One', 2: 'Two', 3: 'Three'}\n",
      "ADictionary[2] =  Two\n",
      "{1: 'One', 2: 'Two', 3: 'Three', 5: 'Five'}\n"
     ]
    }
   ],
   "source": [
    "ADictionary = {1 : 'One', 2 : 'Two', 3 : 'Three'}\n",
    "print('ADictionary = ', ADictionary)\n",
    "print('ADictionary[2] = ', ADictionary[2])\n",
    "ADictionary.update({5 : 'Five'})\n",
    "print(ADictionary)"
   ]
  },
  {
   "cell_type": "code",
   "execution_count": null,
   "id": "a4ce0a17",
   "metadata": {},
   "outputs": [],
   "source": []
  }
 ],
 "metadata": {
  "kernelspec": {
   "display_name": "Python 3 (ipykernel)",
   "language": "python",
   "name": "python3"
  },
  "language_info": {
   "codemirror_mode": {
    "name": "ipython",
    "version": 3
   },
   "file_extension": ".py",
   "mimetype": "text/x-python",
   "name": "python",
   "nbconvert_exporter": "python",
   "pygments_lexer": "ipython3",
   "version": "3.10.9"
  }
 },
 "nbformat": 4,
 "nbformat_minor": 5
}
