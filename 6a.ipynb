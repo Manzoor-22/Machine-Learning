{
 "cells": [
  {
   "cell_type": "markdown",
   "id": "37959100",
   "metadata": {},
   "source": [
    "1. Write a program to demonstrate the following"
   ]
  },
  {
   "cell_type": "markdown",
   "id": "30d878a0",
   "metadata": {},
   "source": [
    "a. Demonstrate working with tuples in python."
   ]
  },
  {
   "cell_type": "code",
   "execution_count": 1,
   "id": "89757d6c",
   "metadata": {},
   "outputs": [
    {
     "name": "stdout",
     "output_type": "stream",
     "text": [
      "ATuple =  (1, 3, 5, 7)\n",
      "ATuple[1] =  3\n",
      "ATuple[-1] =  7\n"
     ]
    }
   ],
   "source": [
    "ATuple = (1, 3,  5, 7)\n",
    "print('ATuple = ', ATuple)\n",
    "print('ATuple[1] = ', ATuple[1])\n",
    "print('ATuple[-1] = ', ATuple[-1])"
   ]
  },
  {
   "cell_type": "markdown",
   "id": "bbc0d125",
   "metadata": {},
   "source": [
    "b. Demonstrate working with dictionaries in python"
   ]
  },
  {
   "cell_type": "code",
   "execution_count": 2,
   "id": "a8aebfd8",
   "metadata": {},
   "outputs": [
    {
     "name": "stdout",
     "output_type": "stream",
     "text": [
      "ADictionary =  {1: 'One', 2: 'Two', 3: 'Three'}\n",
      "ADictionary[2] =  Two\n",
      "{1: 'One', 2: 'Two', 3: 'Three', 5: 'Five'}\n"
     ]
    }
   ],
   "source": [
    "ADictionary = {1 : 'One', 2 : 'Two', 3 : 'Three'}\n",
    "print('ADictionary = ', ADictionary)\n",
    "print('ADictionary[2] = ', ADictionary[2])\n",
    "ADictionary.update({5 : 'Five'})\n",
    "print(ADictionary)"
   ]
  }
 ],
 "metadata": {
  "kernelspec": {
   "display_name": "Python 3 (ipykernel)",
   "language": "python",
   "name": "python3"
  },
  "language_info": {
   "codemirror_mode": {
    "name": "ipython",
    "version": 3
   },
   "file_extension": ".py",
   "mimetype": "text/x-python",
   "name": "python",
   "nbconvert_exporter": "python",
   "pygments_lexer": "ipython3",
   "version": "3.10.9"
  }
 },
 "nbformat": 4,
 "nbformat_minor": 5
}
